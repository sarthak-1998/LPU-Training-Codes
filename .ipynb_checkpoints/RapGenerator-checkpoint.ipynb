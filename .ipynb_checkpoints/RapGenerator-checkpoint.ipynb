{
 "cells": [
  {
   "cell_type": "code",
   "execution_count": 34,
   "metadata": {},
   "outputs": [],
   "source": [
    "import numpy as np"
   ]
  },
  {
   "cell_type": "code",
   "execution_count": 2,
   "metadata": {},
   "outputs": [],
   "source": [
    "# Read the file\n",
    "def load_text(filename):\n",
    "    with open(filename, encoding=\"utf-8\") as f:\n",
    "        return f.read().lower()"
   ]
  },
  {
   "cell_type": "code",
   "execution_count": 21,
   "metadata": {},
   "outputs": [
    {
     "data": {
      "text/plain": [
       "'कौन बोला मुझसे न हो पायेगा\\nकौन बोला, कौन बोला\\nअपना time आएगा\\nउठ जा अपनी राख से तू\\nउठ जा अब तलाश में\\nपरवाज़ देख परवाने की\\nअसमान भी सर उठाएगा\\nआएगा अपना time आएगा\\nमेरे जैसा शाणा लाला\\nतुझे न मिल पायेगा\\nये शब्दों का ज्वाला\\nमेरी बेड़ियाँ पिघलायेगा\\nजितना तूने बोया है\\nतू उतना ही तो खायेगा\\nऐसा मेरा ख्वाब है\\nजो डर को भी सताएगा\\nजिंदा मेरा ख्वाब\\nअब कैसे तू दफानायेगा\\nअब हौसले से जीने दे\\nअब खौफ नहीं है सीने में\\nहर रास्ते को चीरेंगे\\nहम कामयाबी छीनेंगे\\nसब कुछ मिला पसीने से\\nमतलब बना अब जीने में\\nक्यूँ...\\nक्यूंकि अपना time आएगा\\nतू नंगा ही तो आया है\\nक्या घंटा लेकर जाएगा\\nअपना time आएगा\\nअपना time आएगा\\nअपना time आएगा\\nतू नंगा ही तो आया है\\nक्या घंटा लेकर जाएगा\\nअपना time आएगा\\nअपना time आएगा\\nअपना time आएगा\\nतू नंगा ही तो आया है\\nक्या घंटा लेकर\\nकिसी का हाथ नहीं था सर पर\\nयहाँ पर आया खुदकी मेहनत से मैं\\nजितनी ताकत किस्मत में नहीं\\nउतनी रहमत में है\\nफिर भी लड़का सहमत नहीं है\\nक्यूंकि हैरत नहीं है\\nजरुरत यहाँ मर्ज़ी की और जुर्रत की है\\nदिक्कत की है, आफत की, हिमाकत की, इबादत की\\nअदालत ये है चाहत की\\nमोहब्बत की, अमानत की\\nजीतने की अब आदत की\\nअब शोहरत की, अब लालच नहीं है\\nतेरे भाई जैसा कोई हार्डीच नहीं है\\nhard, hard, hard\\nइस हरकत ने ही बरकत दी है\\nक्यूँ...\\nक्यूंकि अपना time आएगा\\nतू नंगा ही तो आया है\\nक्या घंटा लेकर जाएगा\\nअपना time आएगा\\nअपना time आएगा\\nअपना time आएगा\\nतू नंगा ही तो आया है\\nक्या घंटा लेकर जाएगा\\nअपना time आएगा\\nअपना time आएगा\\nअपना time आएगा\\nतू नंगा ही तो आया है\\nक्या घंटा लेकर जाएगा\\nकल नंगा ही तो आया था\\nक्या तू घंटा लेकर जाएगा\\nअपना time आएगा\\nअपना time आएगा\\nअपना time आएगा ना\\nतू नंगा ही तो जाएगा ना'"
      ]
     },
     "execution_count": 21,
     "metadata": {},
     "output_type": "execute_result"
    }
   ],
   "source": [
    "load_text(\"data.txt\")"
   ]
  },
  {
   "cell_type": "code",
   "execution_count": 4,
   "metadata": {},
   "outputs": [],
   "source": [
    "def transitionTable(data, k=4):\n",
    "    T = {}\n",
    "    # Work\n",
    "    for i in range(len(data)-k):\n",
    "        X = data[i:i+k]\n",
    "        Y = data[i+k]\n",
    "        \n",
    "        if T.get(X) is None:\n",
    "            T[X] = {}\n",
    "            T[X][Y] = 1\n",
    "        elif T[X].get(Y) is None:\n",
    "            T[X][Y] = 1\n",
    "        else:\n",
    "            T[X][Y]+=1\n",
    "            \n",
    "    return T"
   ]
  },
  {
   "cell_type": "code",
   "execution_count": 5,
   "metadata": {},
   "outputs": [],
   "source": [
    "test = transitionTable(\"hello helli hy hello\")"
   ]
  },
  {
   "cell_type": "code",
   "execution_count": 13,
   "metadata": {},
   "outputs": [
    {
     "data": {
      "text/plain": [
       "3"
      ]
     },
     "execution_count": 13,
     "metadata": {},
     "output_type": "execute_result"
    }
   ],
   "source": [
    "sum(test[\"hell\"].values())"
   ]
  },
  {
   "cell_type": "code",
   "execution_count": 18,
   "metadata": {},
   "outputs": [],
   "source": [
    "def probability(T):\n",
    "    for kx in T.keys(): # This will go to every substring\n",
    "        norm_factor = sum(T[kx].values()) # Denominator\n",
    "        for val in T[kx].keys():\n",
    "            T[kx][val]/=norm_factor\n",
    "    return T"
   ]
  },
  {
   "cell_type": "code",
   "execution_count": 19,
   "metadata": {},
   "outputs": [],
   "source": [
    "test_probab = probability(test)"
   ]
  },
  {
   "cell_type": "code",
   "execution_count": 20,
   "metadata": {},
   "outputs": [
    {
     "data": {
      "text/plain": [
       "{'hell': {'o': 0.6666666666666666, 'i': 0.3333333333333333},\n",
       " 'ello': {' ': 1.0},\n",
       " 'llo ': {'h': 1.0},\n",
       " 'lo h': {'e': 1.0},\n",
       " 'o he': {'l': 1.0},\n",
       " ' hel': {'l': 1.0},\n",
       " 'elli': {' ': 1.0},\n",
       " 'lli ': {'h': 1.0},\n",
       " 'li h': {'y': 1.0},\n",
       " 'i hy': {' ': 1.0},\n",
       " ' hy ': {'h': 1.0},\n",
       " 'hy h': {'e': 1.0},\n",
       " 'y he': {'l': 1.0}}"
      ]
     },
     "execution_count": 20,
     "metadata": {},
     "output_type": "execute_result"
    }
   ],
   "source": [
    "test_probab"
   ]
  },
  {
   "cell_type": "code",
   "execution_count": 23,
   "metadata": {},
   "outputs": [],
   "source": [
    "def predict(string, T):\n",
    "    if T.get(string) is None:\n",
    "        return \" \""
   ]
  },
  {
   "cell_type": "code",
   "execution_count": null,
   "metadata": {},
   "outputs": [],
   "source": []
  }
 ],
 "metadata": {
  "kernelspec": {
   "display_name": "Python 3",
   "language": "python",
   "name": "python3"
  },
  "language_info": {
   "codemirror_mode": {
    "name": "ipython",
    "version": 3
   },
   "file_extension": ".py",
   "mimetype": "text/x-python",
   "name": "python",
   "nbconvert_exporter": "python",
   "pygments_lexer": "ipython3",
   "version": "3.7.1"
  }
 },
 "nbformat": 4,
 "nbformat_minor": 2
}
